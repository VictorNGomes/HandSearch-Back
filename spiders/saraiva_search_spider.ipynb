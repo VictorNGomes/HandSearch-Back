{
 "cells": [
  {
   "cell_type": "code",
   "execution_count": 1,
   "metadata": {},
   "outputs": [],
   "source": [
    "import pandas as pd\n",
    "import numpy as np\n",
    "import matplotlib.pyplot as plt\n",
    "#import seaborn as sns\n",
    "#%matplotlib inline\n",
    "import re\n",
    "import time\n",
    "from datetime import datetime\n",
    "import matplotlib.dates as mdates\n",
    "import matplotlib.ticker as ticker\n",
    "from urllib.request import urlopen\n",
    "from bs4 import BeautifulSoup\n",
    "import requests"
   ]
  },
  {
   "cell_type": "code",
   "execution_count": 39,
   "metadata": {},
   "outputs": [],
   "source": [
    "#Quantidade maxima de páginas a serem extraidas\n",
    "no_pages = 2\n",
    "\n",
    "#Termo de busca digitado pelo user\n",
    "search = \"dan+brown\"\n",
    "\n",
    "def get_data(pageNo, searchTitle):  \n",
    "    #Configuracao do BeatifulSoup\n",
    "    headers = {\"User-Agent\":\"Mozilla/5.0 (Windows NT 10.0; Win64; x64; rv:66.0) Gecko/20100101 Firefox/66.0\", \"Accept-Encoding\":\"gzip, deflate\", \"Accept\":\"text/html,application/xhtml+xml,application/xml;q=0.9,*/*;q=0.8\", \"DNT\":\"1\",\"Connection\":\"close\", \"Upgrade-Insecure-Requests\":\"1\"}\n",
    "    \n",
    "    # MODELO DE URL DO SITE - https://busca.saraiva.com.br/busca?q=dan%20brown&page=2\n",
    "    r = requests.get('https://busca.saraiva.com.br/busca?q='+str(searchTitle)+'&page='+ str(pageNo), headers=headers)#, proxies=proxies)\n",
    "    content = r.content\n",
    "    soup = BeautifulSoup(content)\n",
    "    #print(soup)\n",
    "\n",
    "    alls = []\n",
    "\n",
    "    #Encontra no html todas as lis com essa class e pega seu conteúdo\n",
    "    for d in soup.findAll('li', attrs={'class':'nm-product-item'}):\n",
    "        #print(d)\n",
    "        name = d.find('a', attrs={'class':'nm-product-name'})\n",
    "        #n = name.find_all('img', alt=True)\n",
    "        #print(n[0]['alt'])\n",
    "        author = d.find('div', attrs={'class':'nm-product-sub'})\n",
    "        try:\n",
    "            author = author.text\n",
    "            author = re.sub(\"\\n| \",\"\", author)\n",
    "            author = re.split(',', author)\n",
    "            if len(author) >= 2:\n",
    "                author = author[1] + \" \" + author[0]\n",
    "            else:\n",
    "                author = author[0]\n",
    "        except:\n",
    "            continue\n",
    "        #print(author)\n",
    "        #rating = d.find('span', attrs={'class':'4,1 de 5 estrelas'})\n",
    "        #r = rating.find_all('span', aria-label=True)\n",
    "        \n",
    "        price = d.find('div', attrs={'class':'nm-price-container'})\n",
    "        try:\n",
    "            price = price.text\n",
    "            price = re.sub(\"\\n| \", \"\", price)\n",
    "            price = re.split('\\$', price)\n",
    "            price = \"R$ \" + price[1]\n",
    "        except:\n",
    "            break\n",
    "\n",
    "        imgUrl = d.find('img', attrs={'class': 'nm-product-img'})['src']\n",
    "        \n",
    "        siteUrl = d.find('a', attrs={'class': 'nm-product-img-link'})['href']\n",
    "\n",
    "        all1=[]\n",
    "\n",
    "        if name is not None:\n",
    "            #print(n[0]['alt'])\n",
    "            all1.append(name.text)\n",
    "        else:\n",
    "            all1.append(\"unknown-product\")\n",
    "\n",
    "        if author is not None:\n",
    "            #print(author.text)\n",
    "            all1.append(author)\n",
    "        elif author is None:\n",
    "            author = d.find('span', attrs={'class':'a-size-small a-color-base'})\n",
    "            if author is not None:\n",
    "                all1.append(author)\n",
    "            else:    \n",
    "                all1.append('0')\n",
    "                \n",
    "        if imgUrl is not None:\n",
    "            all1.append(imgUrl)\n",
    "        else:\n",
    "            all1.append(\"invalid-image\")\n",
    "        \n",
    "        if siteUrl is not None:\n",
    "            all1.append(siteUrl)\n",
    "        else:\n",
    "            all1.append(\"invalid-url-site\")\n",
    "\n",
    "        #if rating is not None:\n",
    "            #print(rating.text)\n",
    "        #    all1.append(rating.text)\n",
    "        #else:\n",
    "        #    all1.append('-1')\n",
    "\n",
    "        #if users_rated is not None:\n",
    "            #print(price.text)\n",
    "        #    all1.append(users_rated.text)\n",
    "        #else:\n",
    "        #    all1.append('0')     \n",
    "\n",
    "        if price is not None:\n",
    "            #print(price.text)\n",
    "            all1.append(price)\n",
    "        else:\n",
    "            all1.append('0')\n",
    "        alls.append(all1)    \n",
    "    return alls"
   ]
  },
  {
   "cell_type": "code",
   "execution_count": 41,
   "metadata": {},
   "outputs": [],
   "source": [
    "results = []\n",
    "for i in range(1, no_pages+1):\n",
    "    results.append(get_data(i, search))\n",
    "flatten = lambda l: [item for sublist in l for item in sublist]\n",
    "df = pd.DataFrame(flatten(results),columns=['Titulo','Autor', 'ImgUrl', 'SiteUrl', 'Preco'])\n",
    "df.to_csv('saraiva_products.csv', index=False, encoding='utf-8')"
   ]
  },
  {
   "cell_type": "code",
   "execution_count": 42,
   "metadata": {},
   "outputs": [
    {
     "data": {
      "text/plain": [
       "(1, 5)"
      ]
     },
     "execution_count": 42,
     "metadata": {},
     "output_type": "execute_result"
    }
   ],
   "source": [
    "df = pd.read_csv(\"saraiva_products.csv\")\n",
    "df.shape"
   ]
  },
  {
   "cell_type": "code",
   "execution_count": 46,
   "metadata": {},
   "outputs": [
    {
     "data": {
      "text/html": [
       "<div>\n",
       "<style scoped>\n",
       "    .dataframe tbody tr th:only-of-type {\n",
       "        vertical-align: middle;\n",
       "    }\n",
       "\n",
       "    .dataframe tbody tr th {\n",
       "        vertical-align: top;\n",
       "    }\n",
       "\n",
       "    .dataframe thead th {\n",
       "        text-align: right;\n",
       "    }\n",
       "</style>\n",
       "<table border=\"1\" class=\"dataframe\">\n",
       "  <thead>\n",
       "    <tr style=\"text-align: right;\">\n",
       "      <th></th>\n",
       "      <th>Titulo</th>\n",
       "      <th>Autor</th>\n",
       "      <th>ImgUrl</th>\n",
       "      <th>SiteUrl</th>\n",
       "      <th>Preco</th>\n",
       "    </tr>\n",
       "  </thead>\n",
       "  <tbody>\n",
       "    <tr>\n",
       "      <th>0</th>\n",
       "      <td>Origem</td>\n",
       "      <td>Dan Brown</td>\n",
       "      <td>//lojasaraiva.vteximg.com.br/arquivos/ids/1211...</td>\n",
       "      <td>//www.saraiva.com.br/origem-9731880/p</td>\n",
       "      <td>R$ 43,90</td>\n",
       "    </tr>\n",
       "  </tbody>\n",
       "</table>\n",
       "</div>"
      ],
      "text/plain": [
       "   Titulo      Autor                                             ImgUrl  \\\n",
       "0  Origem  Dan Brown  //lojasaraiva.vteximg.com.br/arquivos/ids/1211...   \n",
       "\n",
       "                                 SiteUrl     Preco  \n",
       "0  //www.saraiva.com.br/origem-9731880/p  R$ 43,90  "
      ]
     },
     "execution_count": 46,
     "metadata": {},
     "output_type": "execute_result"
    }
   ],
   "source": [
    "df.head(61)"
   ]
  }
 ],
 "metadata": {
  "interpreter": {
   "hash": "7a787232c7673f81a1520157a52648d2307a5e4bf48be5d513d31ad958dc09a6"
  },
  "kernelspec": {
   "display_name": "Python 3.9.6 64-bit",
   "name": "python3"
  },
  "language_info": {
   "codemirror_mode": {
    "name": "ipython",
    "version": 3
   },
   "file_extension": ".py",
   "mimetype": "text/x-python",
   "name": "python",
   "nbconvert_exporter": "python",
   "pygments_lexer": "ipython3",
   "version": "3.9.6"
  },
  "orig_nbformat": 4
 },
 "nbformat": 4,
 "nbformat_minor": 2
}
